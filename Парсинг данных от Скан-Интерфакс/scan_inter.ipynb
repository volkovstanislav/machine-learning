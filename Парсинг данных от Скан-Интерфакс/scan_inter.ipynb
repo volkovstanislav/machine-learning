{
 "cells": [
  {
   "cell_type": "code",
   "execution_count": 1,
   "metadata": {},
   "outputs": [],
   "source": [
    "import os\n",
    "import re\n",
    "import ast\n",
    "import time\n",
    "import json\n",
    "import datetime\n",
    "import requests\n",
    "import warnings\n",
    "import pandas as pd\n",
    "from tqdm import tqdm_notebook\n",
    "from tqdm import tqdm_notebook as tqdm\n",
    "\n",
    "\n",
    "import matplotlib.pyplot as plt\n",
    "\n",
    "warnings.filterwarnings(\"ignore\")\n",
    "%matplotlib inline"
   ]
  },
  {
   "cell_type": "markdown",
   "metadata": {},
   "source": [
    "## Основные параметры"
   ]
  },
  {
   "cell_type": "code",
   "execution_count": 2,
   "metadata": {},
   "outputs": [],
   "source": [
    "## Основной url для api запросов\n",
    "main_url='https://gateway.scan-interfax.ru/'\n",
    "\n",
    "login = 'kiselevI@open.ru'\n",
    "password = 'lLd/ENl' \n",
    "\n",
    "## Подгрузка расшифровки\n",
    "http_status_code = pd.read_csv(r'http_status_code.csv', sep=';', error_bad_lines=False, encoding=\"cp1251\")"
   ]
  },
  {
   "cell_type": "markdown",
   "metadata": {},
   "source": [
    "## Авторизация"
   ]
  },
  {
   "cell_type": "code",
   "execution_count": 3,
   "metadata": {},
   "outputs": [
    {
     "name": "stdout",
     "output_type": "stream",
     "text": [
      "https://gateway.scan-interfax.ru/api/v1/account/login\n",
      "- Результат запроса: OK\n",
      "\"Успешно\". Запрос успешно обработан. Что значит \"успешно\", зависит от метода HTTP, который был запрошен:\n",
      "- Срок действия аккаунта до: 2020-04-09\n"
     ]
    }
   ],
   "source": [
    "api_login = 'api/v1/account/login'\n",
    "url = main_url + api_login\n",
    "print(url)\n",
    "\n",
    "## Параметры\n",
    "params ={\n",
    "  \"login\": login,\n",
    "  \"password\": password\n",
    "}\n",
    "\n",
    "try:\n",
    "    response = requests.post(url, json=params, verify=False)\n",
    "    accessToken = response.json()['accessToken']\n",
    "    print('- Результат запроса:',http_status_code[http_status_code['code']==response.status_code]['name'].values[0])\n",
    "    print(http_status_code[http_status_code['code']==response.status_code]['message'].values[0])\n",
    "    print('- Срок действия аккаунта до:',pd.to_datetime(response.json()['expire']).date())  \n",
    "except BaseException as error:\n",
    "    print('Ошибка запроса:',response.status_code)\n",
    "    print(error.__doc__)"
   ]
  },
  {
   "cell_type": "markdown",
   "metadata": {},
   "source": [
    "## Выгружаем публикации для Беловой"
   ]
  },
  {
   "cell_type": "code",
   "execution_count": 4,
   "metadata": {},
   "outputs": [
    {
     "name": "stdout",
     "output_type": "stream",
     "text": [
      "(2071, 1)\n"
     ]
    }
   ],
   "source": [
    "## Загружаем данные от Михеевой\n",
    "data_b =pd.read_excel(r'Мониторинг СКАН Интерфакс (Белова).xlsx',\n",
    "                         converters={'inn':str})\n",
    "print(data_b.shape)\n",
    "# собираем словарь\n",
    "inn_list = list(data_b['inn'].unique())\n",
    "companiesToSearch = []\n",
    "for inn in inn_list:\n",
    "    if len(inn) == 10:\n",
    "        companiesToSearch.append({\"inn\":inn, \"documentsCount\": 100000})"
   ]
  },
  {
   "cell_type": "code",
   "execution_count": 5,
   "metadata": {},
   "outputs": [],
   "source": [
    "startDate = []\n",
    "endDate = []\n",
    "for i in range(0,91):\n",
    "    startDate.append(str(datetime.date(2020,1,1) + datetime.timedelta(days=i)) + \"T00:00:00\")\n",
    "    endDate.append(str(datetime.date(2020,1,1) + datetime.timedelta(days=i)) + \"T23:59:59\")"
   ]
  },
  {
   "cell_type": "code",
   "execution_count": 10,
   "metadata": {},
   "outputs": [
    {
     "name": "stdout",
     "output_type": "stream",
     "text": [
      "<class 'int'> 235\n"
     ]
    }
   ],
   "source": [
    "negative = pd.read_excel('source.xlsx')\n",
    "negative_id = [int(elem) for elem in list(negative['subjectId'])]\n",
    "print(type(negative_id[0]), len(negative_id))"
   ]
  },
  {
   "cell_type": "code",
   "execution_count": 11,
   "metadata": {},
   "outputs": [
    {
     "name": "stdout",
     "output_type": "stream",
     "text": [
      "https://gateway.scan-interfax.ru/api/v1/search/findByCompaniesList\n",
      "## Код запроса: 200 Выгрузка с 2020-01-01T00:00:00 по 2020-01-01T23:59:59 18.455135822296143\n",
      "## Код запроса: 200 Выгрузка с 2020-01-02T00:00:00 по 2020-01-02T23:59:59 19.615883827209473\n",
      "## Код запроса: 200 Выгрузка с 2020-01-03T00:00:00 по 2020-01-03T23:59:59 21.22970199584961\n",
      "## Код запроса: 200 Выгрузка с 2020-01-04T00:00:00 по 2020-01-04T23:59:59 21.89864706993103\n",
      "## Код запроса: 200 Выгрузка с 2020-01-05T00:00:00 по 2020-01-05T23:59:59 24.571336030960083\n",
      "## Код запроса: 200 Выгрузка с 2020-01-06T00:00:00 по 2020-01-06T23:59:59 20.085125207901\n",
      "## Код запроса: 200 Выгрузка с 2020-01-07T00:00:00 по 2020-01-07T23:59:59 22.37452507019043\n",
      "## Код запроса: 200 Выгрузка с 2020-01-08T00:00:00 по 2020-01-08T23:59:59 21.36506986618042\n",
      "## Код запроса: 200 Выгрузка с 2020-01-09T00:00:00 по 2020-01-09T23:59:59 30.833847045898438\n",
      "## Код запроса: 200 Выгрузка с 2020-01-10T00:00:00 по 2020-01-10T23:59:59 25.391350030899048\n",
      "## Код запроса: 200 Выгрузка с 2020-01-11T00:00:00 по 2020-01-11T23:59:59 23.93836283683777\n",
      "## Код запроса: 200 Выгрузка с 2020-01-12T00:00:00 по 2020-01-12T23:59:59 20.57395315170288\n",
      "## Код запроса: 200 Выгрузка с 2020-01-13T00:00:00 по 2020-01-13T23:59:59 25.195636987686157\n",
      "## Код запроса: 200 Выгрузка с 2020-01-14T00:00:00 по 2020-01-14T23:59:59 27.46762490272522\n",
      "## Код запроса: 200 Выгрузка с 2020-01-15T00:00:00 по 2020-01-15T23:59:59 25.647680044174194\n",
      "## Код запроса: 200 Выгрузка с 2020-01-16T00:00:00 по 2020-01-16T23:59:59 27.840709924697876\n",
      "## Код запроса: 200 Выгрузка с 2020-01-17T00:00:00 по 2020-01-17T23:59:59 154.8163299560547\n",
      "## Код запроса: 200 Выгрузка с 2020-01-18T00:00:00 по 2020-01-18T23:59:59 20.64652681350708\n",
      "## Код запроса: 200 Выгрузка с 2020-01-19T00:00:00 по 2020-01-19T23:59:59 20.53597402572632\n",
      "## Код запроса: 200 Выгрузка с 2020-01-20T00:00:00 по 2020-01-20T23:59:59 23.5744948387146\n",
      "## Код запроса: 200 Выгрузка с 2020-01-21T00:00:00 по 2020-01-21T23:59:59 25.929662942886353\n",
      "## Код запроса: 200 Выгрузка с 2020-01-22T00:00:00 по 2020-01-22T23:59:59 22.676241874694824\n",
      "## Код запроса: 200 Выгрузка с 2020-01-23T00:00:00 по 2020-01-23T23:59:59 24.122195959091187\n",
      "## Код запроса: 200 Выгрузка с 2020-01-24T00:00:00 по 2020-01-24T23:59:59 83.19063591957092\n",
      "## Код запроса: 200 Выгрузка с 2020-01-25T00:00:00 по 2020-01-25T23:59:59 25.039484977722168\n",
      "## Код запроса: 200 Выгрузка с 2020-01-26T00:00:00 по 2020-01-26T23:59:59 21.692920207977295\n",
      "## Код запроса: 200 Выгрузка с 2020-01-27T00:00:00 по 2020-01-27T23:59:59 23.18773889541626\n",
      "## Код запроса: 200 Выгрузка с 2020-01-28T00:00:00 по 2020-01-28T23:59:59 22.81750798225403\n",
      "## Код запроса: 200 Выгрузка с 2020-01-29T00:00:00 по 2020-01-29T23:59:59 24.32885479927063\n",
      "## Код запроса: 200 Выгрузка с 2020-01-30T00:00:00 по 2020-01-30T23:59:59 23.38801097869873\n",
      "## Код запроса: 200 Выгрузка с 2020-01-31T00:00:00 по 2020-01-31T23:59:59 23.66960883140564\n",
      "## Код запроса: 200 Выгрузка с 2020-02-01T00:00:00 по 2020-02-01T23:59:59 27.427265882492065\n",
      "## Код запроса: 200 Выгрузка с 2020-02-02T00:00:00 по 2020-02-02T23:59:59 33.849233865737915\n",
      "## Код запроса: 200 Выгрузка с 2020-02-03T00:00:00 по 2020-02-03T23:59:59 30.28724718093872\n",
      "## Код запроса: 200 Выгрузка с 2020-02-04T00:00:00 по 2020-02-04T23:59:59 31.47303295135498\n",
      "## Код запроса: 200 Выгрузка с 2020-02-05T00:00:00 по 2020-02-05T23:59:59 28.765891790390015\n",
      "## Код запроса: 200 Выгрузка с 2020-02-06T00:00:00 по 2020-02-06T23:59:59 26.386965036392212\n",
      "## Код запроса: 200 Выгрузка с 2020-02-07T00:00:00 по 2020-02-07T23:59:59 27.73534893989563\n",
      "## Код запроса: 200 Выгрузка с 2020-02-08T00:00:00 по 2020-02-08T23:59:59 22.191610097885132\n",
      "## Код запроса: 200 Выгрузка с 2020-02-09T00:00:00 по 2020-02-09T23:59:59 22.369218826293945\n",
      "## Код запроса: 200 Выгрузка с 2020-02-10T00:00:00 по 2020-02-10T23:59:59 37.931918144226074\n",
      "## Код запроса: 200 Выгрузка с 2020-02-11T00:00:00 по 2020-02-11T23:59:59 35.87208700180054\n",
      "## Код запроса: 200 Выгрузка с 2020-02-12T00:00:00 по 2020-02-12T23:59:59 31.32686686515808\n",
      "## Код запроса: 200 Выгрузка с 2020-02-13T00:00:00 по 2020-02-13T23:59:59 25.306756019592285\n",
      "## Код запроса: 200 Выгрузка с 2020-02-14T00:00:00 по 2020-02-14T23:59:59 27.650562047958374\n",
      "## Код запроса: 200 Выгрузка с 2020-02-15T00:00:00 по 2020-02-15T23:59:59 22.04237174987793\n",
      "## Код запроса: 200 Выгрузка с 2020-02-16T00:00:00 по 2020-02-16T23:59:59 33.59963917732239\n",
      "## Код запроса: 200 Выгрузка с 2020-02-17T00:00:00 по 2020-02-17T23:59:59 24.900874137878418\n",
      "## Код запроса: 200 Выгрузка с 2020-02-18T00:00:00 по 2020-02-18T23:59:59 24.467453956604004\n",
      "## Код запроса: 200 Выгрузка с 2020-02-19T00:00:00 по 2020-02-19T23:59:59 23.548277139663696\n",
      "## Код запроса: 200 Выгрузка с 2020-02-20T00:00:00 по 2020-02-20T23:59:59 22.108242988586426\n",
      "## Код запроса: 200 Выгрузка с 2020-02-21T00:00:00 по 2020-02-21T23:59:59 22.457058906555176\n",
      "## Код запроса: 200 Выгрузка с 2020-02-22T00:00:00 по 2020-02-22T23:59:59 22.491065740585327\n",
      "## Код запроса: 200 Выгрузка с 2020-02-23T00:00:00 по 2020-02-23T23:59:59 21.07397484779358\n",
      "## Код запроса: 200 Выгрузка с 2020-02-24T00:00:00 по 2020-02-24T23:59:59 24.05826997756958\n",
      "## Код запроса: 200 Выгрузка с 2020-02-25T00:00:00 по 2020-02-25T23:59:59 28.611520051956177\n",
      "## Код запроса: 200 Выгрузка с 2020-02-26T00:00:00 по 2020-02-26T23:59:59 19.824790954589844\n",
      "## Код запроса: 200 Выгрузка с 2020-02-27T00:00:00 по 2020-02-27T23:59:59 21.897155046463013\n",
      "## Код запроса: 200 Выгрузка с 2020-02-28T00:00:00 по 2020-02-28T23:59:59 23.860876083374023\n",
      "## Код запроса: 200 Выгрузка с 2020-02-29T00:00:00 по 2020-02-29T23:59:59 17.791733026504517\n",
      "## Код запроса: 200 Выгрузка с 2020-03-01T00:00:00 по 2020-03-01T23:59:59 24.91962504386902\n",
      "## Код запроса: 200 Выгрузка с 2020-03-02T00:00:00 по 2020-03-02T23:59:59 36.79258704185486\n",
      "## Код запроса: 200 Выгрузка с 2020-03-03T00:00:00 по 2020-03-03T23:59:59 35.28423714637756\n",
      "## Код запроса: 200 Выгрузка с 2020-03-04T00:00:00 по 2020-03-04T23:59:59 27.149245977401733\n",
      "## Код запроса: 200 Выгрузка с 2020-03-05T00:00:00 по 2020-03-05T23:59:59 29.971657037734985\n",
      "## Код запроса: 200 Выгрузка с 2020-03-06T00:00:00 по 2020-03-06T23:59:59 30.103111028671265\n",
      "## Код запроса: 200 Выгрузка с 2020-03-07T00:00:00 по 2020-03-07T23:59:59 33.24568176269531\n",
      "## Код запроса: 200 Выгрузка с 2020-03-08T00:00:00 по 2020-03-08T23:59:59 26.957245111465454\n",
      "## Код запроса: 200 Выгрузка с 2020-03-09T00:00:00 по 2020-03-09T23:59:59 20.780765771865845\n",
      "## Код запроса: 200 Выгрузка с 2020-03-10T00:00:00 по 2020-03-10T23:59:59 29.374825954437256\n",
      "## Код запроса: 200 Выгрузка с 2020-03-11T00:00:00 по 2020-03-11T23:59:59 25.780065059661865\n",
      "## Код запроса: 200 Выгрузка с 2020-03-12T00:00:00 по 2020-03-12T23:59:59 25.475321054458618\n",
      "## Код запроса: 200 Выгрузка с 2020-03-13T00:00:00 по 2020-03-13T23:59:59 28.698296785354614\n",
      "## Код запроса: 200 Выгрузка с 2020-03-14T00:00:00 по 2020-03-14T23:59:59 21.362791061401367\n",
      "## Код запроса: 200 Выгрузка с 2020-03-15T00:00:00 по 2020-03-15T23:59:59 20.678198099136353\n",
      "## Код запроса: 200 Выгрузка с 2020-03-16T00:00:00 по 2020-03-16T23:59:59 24.263678789138794\n",
      "## Код запроса: 200 Выгрузка с 2020-03-17T00:00:00 по 2020-03-17T23:59:59 30.286511182785034\n",
      "## Код запроса: 200 Выгрузка с 2020-03-18T00:00:00 по 2020-03-18T23:59:59 46.28677821159363\n",
      "## Код запроса: 200 Выгрузка с 2020-03-19T00:00:00 по 2020-03-19T23:59:59 30.915488958358765\n",
      "## Код запроса: 200 Выгрузка с 2020-03-20T00:00:00 по 2020-03-20T23:59:59 51.89298415184021\n",
      "## Код запроса: 200 Выгрузка с 2020-03-21T00:00:00 по 2020-03-21T23:59:59 50.488171100616455\n",
      "## Код запроса: 200 Выгрузка с 2020-03-22T00:00:00 по 2020-03-22T23:59:59 22.058878898620605\n",
      "## Код запроса: 200 Выгрузка с 2020-03-23T00:00:00 по 2020-03-23T23:59:59 28.93990921974182\n",
      "## Код запроса: 200 Выгрузка с 2020-03-24T00:00:00 по 2020-03-24T23:59:59 26.561569690704346\n",
      "## Код запроса: 200 Выгрузка с 2020-03-25T00:00:00 по 2020-03-25T23:59:59 28.003111839294434\n",
      "## Код запроса: 200 Выгрузка с 2020-03-26T00:00:00 по 2020-03-26T23:59:59 25.44474506378174\n",
      "## Код запроса: 200 Выгрузка с 2020-03-27T00:00:00 по 2020-03-27T23:59:59 33.70881724357605\n",
      "## Код запроса: 200 Выгрузка с 2020-03-28T00:00:00 по 2020-03-28T23:59:59 20.760334014892578\n",
      "## Код запроса: 200 Выгрузка с 2020-03-29T00:00:00 по 2020-03-29T23:59:59 26.921595096588135\n",
      "## Код запроса: 200 Выгрузка с 2020-03-30T00:00:00 по 2020-03-30T23:59:59 24.76750111579895\n",
      "## Код запроса: 200 Выгрузка с 2020-03-31T00:00:00 по 2020-03-31T23:59:59 34.37405490875244\n",
      "2601.112368822098\n"
     ]
    }
   ],
   "source": [
    "## Загрузка архива публикаций\n",
    "api_find_comp = 'api/v1/search/findByCompaniesList'\n",
    "url = main_url + api_find_comp\n",
    "\n",
    "print(url)\n",
    "\n",
    "headers = {\n",
    "    'Authorization': 'Bearer ' + accessToken\n",
    "}\n",
    "\n",
    "global_start_time = time.time()\n",
    "df_month = []\n",
    "for i in range(0,len(startDate)):\n",
    "    start_time = time.time()\n",
    "    params = {\n",
    "#          \"companiesToSearch\": companiesToSearch[k*30:30*(k+1)-1],\n",
    "      \"companiesToSearch\": companiesToSearch,\n",
    "      \"period\": {\n",
    "        \"startDate\": startDate[i],\n",
    "        \"endDate\": endDate[i]\n",
    "      },\n",
    "      \"mentionContext\": \"any\",\n",
    "      \"similarMode\": \"similar\",\n",
    "      \"sortType\": \"newFirst\",\n",
    "      \"dateSearchType\": \"publicationDate\",\n",
    "      \"subjects\":negative_id\n",
    "    }\n",
    "\n",
    "    time.sleep(1)\n",
    "    response = requests.post(url, json=params, headers=headers, verify=False)\n",
    "    print('## Код запроса:', response.status_code, 'Выгрузка с ' + str(startDate[i]) + ' по ' + str(endDate[i]), time.time() - start_time)\n",
    "    res = response.json()\n",
    "\n",
    "    df_list = []\n",
    "    for elem in res['companiesSearchResult']:\n",
    "        mes_list = []\n",
    "        for doc in elem['documentIds']:\n",
    "            mes_list.append(doc)\n",
    "        try:\n",
    "            df_list.append({'company': elem['company']['inn'], 'startDate':startDate[i], 'endDate': endDate[i], 'queryCode':elem['queryCode'], 'totalCount': elem['totalCount'], 'documentIds':mes_list})\n",
    "        except Exception as e:\n",
    "            continue\n",
    "\n",
    "    result = pd.DataFrame(df_list)\n",
    "    result['len_documentIds'] = result['documentIds'].apply(lambda x: len(x))\n",
    "    df_month.append(result)\n",
    "    del result\n",
    "print(time.time() - global_start_time)"
   ]
  },
  {
   "cell_type": "code",
   "execution_count": 12,
   "metadata": {},
   "outputs": [
    {
     "name": "stdout",
     "output_type": "stream",
     "text": [
      "(146055, 7)\n"
     ]
    },
    {
     "data": {
      "text/html": [
       "<div>\n",
       "<style scoped>\n",
       "    .dataframe tbody tr th:only-of-type {\n",
       "        vertical-align: middle;\n",
       "    }\n",
       "\n",
       "    .dataframe tbody tr th {\n",
       "        vertical-align: top;\n",
       "    }\n",
       "\n",
       "    .dataframe thead th {\n",
       "        text-align: right;\n",
       "    }\n",
       "</style>\n",
       "<table border=\"1\" class=\"dataframe\">\n",
       "  <thead>\n",
       "    <tr style=\"text-align: right;\">\n",
       "      <th></th>\n",
       "      <th>company</th>\n",
       "      <th>documentIds</th>\n",
       "      <th>endDate</th>\n",
       "      <th>queryCode</th>\n",
       "      <th>startDate</th>\n",
       "      <th>totalCount</th>\n",
       "      <th>len_documentIds</th>\n",
       "    </tr>\n",
       "  </thead>\n",
       "  <tbody>\n",
       "    <tr>\n",
       "      <th>0</th>\n",
       "      <td>6678034985</td>\n",
       "      <td>[]</td>\n",
       "      <td>2020-01-01T23:59:59</td>\n",
       "      <td>f5ac972bdbfc79e0bcd73f75bfce59ca</td>\n",
       "      <td>2020-01-01T00:00:00</td>\n",
       "      <td>0</td>\n",
       "      <td>0</td>\n",
       "    </tr>\n",
       "    <tr>\n",
       "      <th>1</th>\n",
       "      <td>5406681543</td>\n",
       "      <td>[]</td>\n",
       "      <td>2020-01-01T23:59:59</td>\n",
       "      <td>4b3529c6511bb58b6830e5ec2b8c8bdf</td>\n",
       "      <td>2020-01-01T00:00:00</td>\n",
       "      <td>0</td>\n",
       "      <td>0</td>\n",
       "    </tr>\n",
       "    <tr>\n",
       "      <th>2</th>\n",
       "      <td>7814566648</td>\n",
       "      <td>[]</td>\n",
       "      <td>2020-01-01T23:59:59</td>\n",
       "      <td>a5ce555925e640f8281bb9735adefab0</td>\n",
       "      <td>2020-01-01T00:00:00</td>\n",
       "      <td>0</td>\n",
       "      <td>0</td>\n",
       "    </tr>\n",
       "    <tr>\n",
       "      <th>3</th>\n",
       "      <td>7805555551</td>\n",
       "      <td>[]</td>\n",
       "      <td>2020-01-01T23:59:59</td>\n",
       "      <td>c879512bfec9e28bb228d92cbdad393b</td>\n",
       "      <td>2020-01-01T00:00:00</td>\n",
       "      <td>0</td>\n",
       "      <td>0</td>\n",
       "    </tr>\n",
       "    <tr>\n",
       "      <th>4</th>\n",
       "      <td>6163099251</td>\n",
       "      <td>[]</td>\n",
       "      <td>2020-01-01T23:59:59</td>\n",
       "      <td>459cff76df42a5059c82d3a68a5f02a1</td>\n",
       "      <td>2020-01-01T00:00:00</td>\n",
       "      <td>0</td>\n",
       "      <td>0</td>\n",
       "    </tr>\n",
       "  </tbody>\n",
       "</table>\n",
       "</div>"
      ],
      "text/plain": [
       "      company documentIds              endDate  \\\n",
       "0  6678034985          []  2020-01-01T23:59:59   \n",
       "1  5406681543          []  2020-01-01T23:59:59   \n",
       "2  7814566648          []  2020-01-01T23:59:59   \n",
       "3  7805555551          []  2020-01-01T23:59:59   \n",
       "4  6163099251          []  2020-01-01T23:59:59   \n",
       "\n",
       "                          queryCode            startDate  totalCount  \\\n",
       "0  f5ac972bdbfc79e0bcd73f75bfce59ca  2020-01-01T00:00:00           0   \n",
       "1  4b3529c6511bb58b6830e5ec2b8c8bdf  2020-01-01T00:00:00           0   \n",
       "2  a5ce555925e640f8281bb9735adefab0  2020-01-01T00:00:00           0   \n",
       "3  c879512bfec9e28bb228d92cbdad393b  2020-01-01T00:00:00           0   \n",
       "4  459cff76df42a5059c82d3a68a5f02a1  2020-01-01T00:00:00           0   \n",
       "\n",
       "   len_documentIds  \n",
       "0                0  \n",
       "1                0  \n",
       "2                0  \n",
       "3                0  \n",
       "4                0  "
      ]
     },
     "execution_count": 12,
     "metadata": {},
     "output_type": "execute_result"
    }
   ],
   "source": [
    "df = pd.concat(df_month)\n",
    "print(df.shape)\n",
    "df.to_excel('main_monitoring.xlsx')\n",
    "df.head()"
   ]
  },
  {
   "cell_type": "code",
   "execution_count": 13,
   "metadata": {},
   "outputs": [
    {
     "data": {
      "text/plain": [
       "0"
      ]
     },
     "execution_count": 13,
     "metadata": {},
     "output_type": "execute_result"
    }
   ],
   "source": [
    "# Проверка что пришло все необходимое количество\n",
    "(df['totalCount'] != df['len_documentIds']).sum()"
   ]
  },
  {
   "cell_type": "code",
   "execution_count": 14,
   "metadata": {},
   "outputs": [
    {
     "name": "stdout",
     "output_type": "stream",
     "text": [
      "Количество уникальных клиентов:  1605\n"
     ]
    }
   ],
   "source": [
    "print('Количество уникальных клиентов в ответе: ', len(df['company'].unique()))"
   ]
  },
  {
   "cell_type": "code",
   "execution_count": 16,
   "metadata": {},
   "outputs": [
    {
     "name": "stdout",
     "output_type": "stream",
     "text": [
      "Количество уникальных клиентов в ответе у которых есть статьи:  1053\n"
     ]
    },
    {
     "data": {
      "text/html": [
       "<div>\n",
       "<style scoped>\n",
       "    .dataframe tbody tr th:only-of-type {\n",
       "        vertical-align: middle;\n",
       "    }\n",
       "\n",
       "    .dataframe tbody tr th {\n",
       "        vertical-align: top;\n",
       "    }\n",
       "\n",
       "    .dataframe thead th {\n",
       "        text-align: right;\n",
       "    }\n",
       "</style>\n",
       "<table border=\"1\" class=\"dataframe\">\n",
       "  <thead>\n",
       "    <tr style=\"text-align: right;\">\n",
       "      <th></th>\n",
       "      <th>company</th>\n",
       "      <th>documentIds</th>\n",
       "      <th>endDate</th>\n",
       "      <th>queryCode</th>\n",
       "      <th>startDate</th>\n",
       "      <th>totalCount</th>\n",
       "      <th>len_documentIds</th>\n",
       "    </tr>\n",
       "  </thead>\n",
       "  <tbody>\n",
       "    <tr>\n",
       "      <th>36</th>\n",
       "      <td>7811099353</td>\n",
       "      <td>[1:0ZbRl2vigqzQlWIf4oCiT8Kw0YtV0YVk0ZPQl9Cy0YZ...</td>\n",
       "      <td>2020-01-01T23:59:59</td>\n",
       "      <td>c502b9d3ddd2354e5ebeb4cb3836d7a2</td>\n",
       "      <td>2020-01-01T00:00:00</td>\n",
       "      <td>1</td>\n",
       "      <td>1</td>\n",
       "    </tr>\n",
       "    <tr>\n",
       "      <th>85</th>\n",
       "      <td>9705055855</td>\n",
       "      <td>[1:WAAOCUrCrCvQsdC9wrAQH9C0GnHQtHjRhwd+wqTQneK...</td>\n",
       "      <td>2020-01-01T23:59:59</td>\n",
       "      <td>ca9f590cbd969f09fd26bf7d70f152c3</td>\n",
       "      <td>2020-01-01T00:00:00</td>\n",
       "      <td>2</td>\n",
       "      <td>2</td>\n",
       "    </tr>\n",
       "  </tbody>\n",
       "</table>\n",
       "</div>"
      ],
      "text/plain": [
       "       company                                        documentIds  \\\n",
       "36  7811099353  [1:0ZbRl2vigqzQlWIf4oCiT8Kw0YtV0YVk0ZPQl9Cy0YZ...   \n",
       "85  9705055855  [1:WAAOCUrCrCvQsdC9wrAQH9C0GnHQtHjRhwd+wqTQneK...   \n",
       "\n",
       "                endDate                         queryCode  \\\n",
       "36  2020-01-01T23:59:59  c502b9d3ddd2354e5ebeb4cb3836d7a2   \n",
       "85  2020-01-01T23:59:59  ca9f590cbd969f09fd26bf7d70f152c3   \n",
       "\n",
       "              startDate  totalCount  len_documentIds  \n",
       "36  2020-01-01T00:00:00           1                1  \n",
       "85  2020-01-01T00:00:00           2                2  "
      ]
     },
     "execution_count": 16,
     "metadata": {},
     "output_type": "execute_result"
    }
   ],
   "source": [
    "clients_with_news = df[df['len_documentIds']>0]\n",
    "print('Количество уникальных клиентов в ответе у которых есть статьи: ', len(clients_with_news['company'].unique()))\n",
    "clients_with_news.head(2)"
   ]
  },
  {
   "cell_type": "code",
   "execution_count": 17,
   "metadata": {},
   "outputs": [
    {
     "name": "stdout",
     "output_type": "stream",
     "text": [
      "(1053, 5)\n"
     ]
    },
    {
     "data": {
      "text/html": [
       "<div>\n",
       "<style scoped>\n",
       "    .dataframe tbody tr th:only-of-type {\n",
       "        vertical-align: middle;\n",
       "    }\n",
       "\n",
       "    .dataframe tbody tr th {\n",
       "        vertical-align: top;\n",
       "    }\n",
       "\n",
       "    .dataframe thead th {\n",
       "        text-align: right;\n",
       "    }\n",
       "</style>\n",
       "<table border=\"1\" class=\"dataframe\">\n",
       "  <thead>\n",
       "    <tr style=\"text-align: right;\">\n",
       "      <th></th>\n",
       "      <th>company</th>\n",
       "      <th>queryCode</th>\n",
       "      <th>documentIds</th>\n",
       "      <th>totalCount</th>\n",
       "      <th>len_documentIds</th>\n",
       "    </tr>\n",
       "  </thead>\n",
       "  <tbody>\n",
       "    <tr>\n",
       "      <th>0</th>\n",
       "      <td>0250004304</td>\n",
       "      <td>72159558e6ecef0d0060303206102e87</td>\n",
       "      <td>[1:GdCxZNCK0IbQn8Ku4oSiGy4L4oSW0KF2BiEP0LII0Zb...</td>\n",
       "      <td>2</td>\n",
       "      <td>2</td>\n",
       "    </tr>\n",
       "    <tr>\n",
       "      <th>1</th>\n",
       "      <td>0250014334</td>\n",
       "      <td>a0d05c61383fa5103c6e7ad8788da787</td>\n",
       "      <td>[1:IxXQuDcaQuKEljLQth7igJ7Rg1Rb0KRdQgFcBWNuQ9G...</td>\n",
       "      <td>2</td>\n",
       "      <td>2</td>\n",
       "    </tr>\n",
       "  </tbody>\n",
       "</table>\n",
       "</div>"
      ],
      "text/plain": [
       "      company                         queryCode  \\\n",
       "0  0250004304  72159558e6ecef0d0060303206102e87   \n",
       "1  0250014334  a0d05c61383fa5103c6e7ad8788da787   \n",
       "\n",
       "                                         documentIds  totalCount  \\\n",
       "0  [1:GdCxZNCK0IbQn8Ku4oSiGy4L4oSW0KF2BiEP0LII0Zb...           2   \n",
       "1  [1:IxXQuDcaQuKEljLQth7igJ7Rg1Rb0KRdQgFcBWNuQ9G...           2   \n",
       "\n",
       "   len_documentIds  \n",
       "0                2  \n",
       "1                2  "
      ]
     },
     "execution_count": 17,
     "metadata": {},
     "output_type": "execute_result"
    }
   ],
   "source": [
    "gr_clients =clients_with_news.groupby(['company','queryCode'])\\\n",
    "                             .agg({'documentIds': 'sum', 'totalCount': 'sum', 'len_documentIds': 'sum'})\\\n",
    "                             .reset_index()\n",
    "print(gr_clients.shape)\n",
    "gr_clients.head(2)"
   ]
  },
  {
   "cell_type": "code",
   "execution_count": 24,
   "metadata": {},
   "outputs": [
    {
     "name": "stdout",
     "output_type": "stream",
     "text": [
      "Всего должно прийти публикаций:  252690\n"
     ]
    },
    {
     "data": {
      "text/plain": [
       "0"
      ]
     },
     "execution_count": 24,
     "metadata": {},
     "output_type": "execute_result"
    }
   ],
   "source": [
    "print(\"Всего должно прийти публикаций: \", gr_clients['totalCount'].sum())\n",
    "(gr_clients['totalCount'] != gr_clients['len_documentIds']).sum()"
   ]
  },
  {
   "cell_type": "code",
   "execution_count": 25,
   "metadata": {},
   "outputs": [
    {
     "data": {
      "text/plain": [
       "0"
      ]
     },
     "execution_count": 25,
     "metadata": {},
     "output_type": "execute_result"
    }
   ],
   "source": [
    "# Проверим, что публикаций действительно столько после агрегации\n",
    "gr_clients['len_documentIds_1'] = gr_clients['documentIds'].apply(len)\n",
    "(gr_clients['len_documentIds_1'] != gr_clients['len_documentIds']).sum()"
   ]
  },
  {
   "cell_type": "markdown",
   "metadata": {},
   "source": [
    "### Получение списка публикаций"
   ]
  },
  {
   "cell_type": "code",
   "execution_count": 33,
   "metadata": {},
   "outputs": [
    {
     "data": {
      "application/vnd.jupyter.widget-view+json": {
       "model_id": "245537f30eaa45abb45abfc3f404d264",
       "version_major": 2,
       "version_minor": 0
      },
      "text/plain": [
       "HBox(children=(IntProgress(value=0, max=1053), HTML(value='')))"
      ]
     },
     "metadata": {},
     "output_type": "display_data"
    },
    {
     "name": "stdout",
     "output_type": "stream",
     "text": [
      "{'errorCode': 'Document_IDListTooLarge', 'message': 'Превышено максимально допустимое количество запрошенных публикаций. Запрошено: 161. Максимум: 100'}\n"
     ]
    }
   ],
   "source": [
    "api_find_doc = 'api/v1/search/getDocuments'\n",
    "url = main_url + api_find_doc\n",
    "\n",
    "#print(url)\n",
    "\n",
    "headers = {\n",
    "    'Authorization': 'Bearer ' + accessToken\n",
    "}\n",
    "\n",
    "con_df = []\n",
    "for k, v in tqdm(gr_clients.iterrows(), total=gr_clients.shape[0]):\n",
    "    params = {\n",
    "      \"queryCode\": v['queryCode'],\n",
    "      \"ids\": v['documentIds'],\n",
    "      \"attributes\": [\n",
    "        \"content\",  \"objects\"\n",
    "      ],\n",
    "      \"options\": [\n",
    "        \"inlineImages\"\n",
    "      ]\n",
    "    }    \n",
    "    try:\n",
    "        response = requests.post(url, json=params, headers=headers, verify=False)\n",
    "#        print('Код запроса:', response.status_code)\n",
    "        docs = response.json()\n",
    "        doc_list = []\n",
    "        for elem in docs['documents']:\n",
    "            doc_list.append({'documentId': elem['documentId'],\n",
    "        #                     'dedupClusterId': elem['dedupClusterId'],\n",
    "                             'date': elem['date'],\n",
    "                             'loadingDate': elem['loadingDate'],\n",
    "                             'title': elem['title'],\n",
    "                             'author': elem['author'],\n",
    "                             'sourceId': elem['sourceId'],\n",
    "                             'sourceName': elem['sourceName'],\n",
    "                             'url': elem['url'],\n",
    "                             'fullTextUnavailable': elem['fullTextUnavailable'],\n",
    "                             'content': elem['content'],\n",
    "                             'objects': elem['objects'],\n",
    "                            'queryCode':v['queryCode'],\n",
    "                            'company':v['company']})\n",
    "        news = pd.DataFrame(doc_list)\n",
    "        con_df.append(news)\n",
    "    except Exception as e:\n",
    "        print(docs)\n",
    "        break        \n",
    "news = pd.concat(con_df)"
   ]
  },
  {
   "cell_type": "code",
   "execution_count": 28,
   "metadata": {},
   "outputs": [],
   "source": [
    "news.to_excel('main_news.xlsx')"
   ]
  },
  {
   "cell_type": "code",
   "execution_count": 32,
   "metadata": {},
   "outputs": [
    {
     "data": {
      "text/html": [
       "<div>\n",
       "<style scoped>\n",
       "    .dataframe tbody tr th:only-of-type {\n",
       "        vertical-align: middle;\n",
       "    }\n",
       "\n",
       "    .dataframe tbody tr th {\n",
       "        vertical-align: top;\n",
       "    }\n",
       "\n",
       "    .dataframe thead th {\n",
       "        text-align: right;\n",
       "    }\n",
       "</style>\n",
       "<table border=\"1\" class=\"dataframe\">\n",
       "  <thead>\n",
       "    <tr style=\"text-align: right;\">\n",
       "      <th></th>\n",
       "      <th>author</th>\n",
       "      <th>content</th>\n",
       "      <th>date</th>\n",
       "      <th>documentId</th>\n",
       "      <th>fullTextUnavailable</th>\n",
       "      <th>loadingDate</th>\n",
       "      <th>objects</th>\n",
       "      <th>queryCode</th>\n",
       "      <th>sourceId</th>\n",
       "      <th>sourceName</th>\n",
       "      <th>title</th>\n",
       "      <th>url</th>\n",
       "    </tr>\n",
       "  </thead>\n",
       "  <tbody>\n",
       "    <tr>\n",
       "      <th>0</th>\n",
       "      <td></td>\n",
       "      <td>&lt;div&gt;&lt;div&gt;&lt;div&gt;&lt;p&gt;&lt;span class=\"region\" data-en...</td>\n",
       "      <td>2020-02-12T10:47:00+03:00</td>\n",
       "      <td>1:GdCxZNCK0IbQn8Ku4oSiGy4L4oSW0KF2BiEP0LII0ZbC...</td>\n",
       "      <td>False</td>\n",
       "      <td>2020-02-12T10:49:12.972+03:00</td>\n",
       "      <td>[{'type': 'company', 'id': 7391236, 'name': 'Ч...</td>\n",
       "      <td>72159558e6ecef0d0060303206102e87</td>\n",
       "      <td>42830</td>\n",
       "      <td>Интерфакс. Поволжье (interfax-russia.ru)</td>\n",
       "      <td>&lt;div&gt;&lt;span class=\"company\" data-entity-id=\"5\"&gt;...</td>\n",
       "      <td>http://www.interfax-russia.ru/Povoljie/news.as...</td>\n",
       "    </tr>\n",
       "    <tr>\n",
       "      <th>1</th>\n",
       "      <td></td>\n",
       "      <td>&lt;div&gt;&lt;div&gt;&lt;div&gt;&lt;card-section ng-reflect-title=...</td>\n",
       "      <td>2020-03-04T11:31:00+03:00</td>\n",
       "      <td>1:0IzQrDxkBwrQktCLDRdj0ZPQvATQotC9COKAmmPigJjR...</td>\n",
       "      <td>False</td>\n",
       "      <td>2020-03-05T05:25:21.131+03:00</td>\n",
       "      <td>[{'type': 'company', 'id': 7391236, 'name': 'Ч...</td>\n",
       "      <td>72159558e6ecef0d0060303206102e87</td>\n",
       "      <td>30260</td>\n",
       "      <td>Fedresurs.ru. Единый федеральный реестр юридич...</td>\n",
       "      <td>&lt;div&gt;Сообщение №04765387 от 04.03.2020 11:31 &lt;...</td>\n",
       "      <td>https://fedresurs.ru/sfactmessage/CFC044F4AEAF...</td>\n",
       "    </tr>\n",
       "    <tr>\n",
       "      <th>0</th>\n",
       "      <td>Андрей Владиславович</td>\n",
       "      <td>&lt;div&gt;&lt;div&gt;&lt;div&gt;&lt;card-section ng-reflect-title=...</td>\n",
       "      <td>2020-01-27T11:16:00+03:00</td>\n",
       "      <td>1:IxXQuDcaQuKEljLQth7igJ7Rg1Rb0KRdQgFcBWNuQ9GF...</td>\n",
       "      <td>False</td>\n",
       "      <td>2020-01-28T02:46:51.559+03:00</td>\n",
       "      <td>[{'type': 'person', 'id': 149486169, 'name': '...</td>\n",
       "      <td>a0d05c61383fa5103c6e7ad8788da787</td>\n",
       "      <td>30260</td>\n",
       "      <td>Fedresurs.ru. Единый федеральный реестр юридич...</td>\n",
       "      <td>&lt;div&gt;Сообщение №04693671 от 27.01.2020 11:16 &lt;...</td>\n",
       "      <td>https://fedresurs.ru/sfactmessage/4A8E358E69DA...</td>\n",
       "    </tr>\n",
       "    <tr>\n",
       "      <th>1</th>\n",
       "      <td>Кохова  Лариса</td>\n",
       "      <td>&lt;div&gt;&lt;div&gt;&lt;div&gt;&lt;p&gt;Начало 2020 года для &lt;span c...</td>\n",
       "      <td>2020-01-28T09:22:00+03:00</td>\n",
       "      <td>1:0LfigKLQj0tt0ZhvB9CWe8Kr0IhRQcKw0IHQjDZ4ESNj...</td>\n",
       "      <td>True</td>\n",
       "      <td>2020-01-28T12:11:39.588+03:00</td>\n",
       "      <td>[{'type': 'person', 'id': 296470, 'name': 'Мед...</td>\n",
       "      <td>a0d05c61383fa5103c6e7ad8788da787</td>\n",
       "      <td>18283</td>\n",
       "      <td>Кумертауское Время (kumertime.ru)</td>\n",
       "      <td>&lt;div&gt;Кто мы? Резиденты!  Сколько нас? 23&lt;/div&gt;</td>\n",
       "      <td>https://kumertime.rbsmi.ru/articles/ekonomika/...</td>\n",
       "    </tr>\n",
       "    <tr>\n",
       "      <th>0</th>\n",
       "      <td>Полина Максимова</td>\n",
       "      <td>&lt;div&gt;&lt;div&gt;&lt;article&gt;&lt;p&gt;Органическое топливо из ...</td>\n",
       "      <td>2020-01-04T22:33:00+03:00</td>\n",
       "      <td>1:0LPRgV/QnNCtPSY/NVYv0KQfMWVo0LfQi+KAnBLQlkXi...</td>\n",
       "      <td>True</td>\n",
       "      <td>2020-01-04T20:35:18.733+03:00</td>\n",
       "      <td>[{'type': 'region', 'id': 410747, 'name': 'Рес...</td>\n",
       "      <td>93a100b3f17864df6208af70a2c47586</td>\n",
       "      <td>34445</td>\n",
       "      <td>Bash.news. Новости</td>\n",
       "      <td>&lt;div&gt;\"Там другой подход к биодизелю\": почему р...</td>\n",
       "      <td>https://bash.news/news/113440_tam_drugoj_podxo...</td>\n",
       "    </tr>\n",
       "  </tbody>\n",
       "</table>\n",
       "</div>"
      ],
      "text/plain": [
       "                 author                                            content  \\\n",
       "0                        <div><div><div><p><span class=\"region\" data-en...   \n",
       "1                        <div><div><div><card-section ng-reflect-title=...   \n",
       "0  Андрей Владиславович  <div><div><div><card-section ng-reflect-title=...   \n",
       "1        Кохова  Лариса  <div><div><div><p>Начало 2020 года для <span c...   \n",
       "0      Полина Максимова  <div><div><article><p>Органическое топливо из ...   \n",
       "\n",
       "                        date  \\\n",
       "0  2020-02-12T10:47:00+03:00   \n",
       "1  2020-03-04T11:31:00+03:00   \n",
       "0  2020-01-27T11:16:00+03:00   \n",
       "1  2020-01-28T09:22:00+03:00   \n",
       "0  2020-01-04T22:33:00+03:00   \n",
       "\n",
       "                                          documentId  fullTextUnavailable  \\\n",
       "0  1:GdCxZNCK0IbQn8Ku4oSiGy4L4oSW0KF2BiEP0LII0ZbC...                False   \n",
       "1  1:0IzQrDxkBwrQktCLDRdj0ZPQvATQotC9COKAmmPigJjR...                False   \n",
       "0  1:IxXQuDcaQuKEljLQth7igJ7Rg1Rb0KRdQgFcBWNuQ9GF...                False   \n",
       "1  1:0LfigKLQj0tt0ZhvB9CWe8Kr0IhRQcKw0IHQjDZ4ESNj...                 True   \n",
       "0  1:0LPRgV/QnNCtPSY/NVYv0KQfMWVo0LfQi+KAnBLQlkXi...                 True   \n",
       "\n",
       "                     loadingDate  \\\n",
       "0  2020-02-12T10:49:12.972+03:00   \n",
       "1  2020-03-05T05:25:21.131+03:00   \n",
       "0  2020-01-28T02:46:51.559+03:00   \n",
       "1  2020-01-28T12:11:39.588+03:00   \n",
       "0  2020-01-04T20:35:18.733+03:00   \n",
       "\n",
       "                                             objects  \\\n",
       "0  [{'type': 'company', 'id': 7391236, 'name': 'Ч...   \n",
       "1  [{'type': 'company', 'id': 7391236, 'name': 'Ч...   \n",
       "0  [{'type': 'person', 'id': 149486169, 'name': '...   \n",
       "1  [{'type': 'person', 'id': 296470, 'name': 'Мед...   \n",
       "0  [{'type': 'region', 'id': 410747, 'name': 'Рес...   \n",
       "\n",
       "                          queryCode  sourceId  \\\n",
       "0  72159558e6ecef0d0060303206102e87     42830   \n",
       "1  72159558e6ecef0d0060303206102e87     30260   \n",
       "0  a0d05c61383fa5103c6e7ad8788da787     30260   \n",
       "1  a0d05c61383fa5103c6e7ad8788da787     18283   \n",
       "0  93a100b3f17864df6208af70a2c47586     34445   \n",
       "\n",
       "                                          sourceName  \\\n",
       "0           Интерфакс. Поволжье (interfax-russia.ru)   \n",
       "1  Fedresurs.ru. Единый федеральный реестр юридич...   \n",
       "0  Fedresurs.ru. Единый федеральный реестр юридич...   \n",
       "1                  Кумертауское Время (kumertime.ru)   \n",
       "0                                 Bash.news. Новости   \n",
       "\n",
       "                                               title  \\\n",
       "0  <div><span class=\"company\" data-entity-id=\"5\">...   \n",
       "1  <div>Сообщение №04765387 от 04.03.2020 11:31 <...   \n",
       "0  <div>Сообщение №04693671 от 27.01.2020 11:16 <...   \n",
       "1     <div>Кто мы? Резиденты!  Сколько нас? 23</div>   \n",
       "0  <div>\"Там другой подход к биодизелю\": почему р...   \n",
       "\n",
       "                                                 url  \n",
       "0  http://www.interfax-russia.ru/Povoljie/news.as...  \n",
       "1  https://fedresurs.ru/sfactmessage/CFC044F4AEAF...  \n",
       "0  https://fedresurs.ru/sfactmessage/4A8E358E69DA...  \n",
       "1  https://kumertime.rbsmi.ru/articles/ekonomika/...  \n",
       "0  https://bash.news/news/113440_tam_drugoj_podxo...  "
      ]
     },
     "execution_count": 32,
     "metadata": {},
     "output_type": "execute_result"
    }
   ],
   "source": [
    "# Проверка вовзращенных статей\n",
    "news.head()"
   ]
  },
  {
   "cell_type": "code",
   "execution_count": null,
   "metadata": {},
   "outputs": [],
   "source": []
  },
  {
   "cell_type": "markdown",
   "metadata": {},
   "source": [
    "-------------------------"
   ]
  },
  {
   "cell_type": "code",
   "execution_count": null,
   "metadata": {},
   "outputs": [],
   "source": [
    "def cleanhtml(raw_html):\n",
    "    cleanr = re.compile(\"<.*?>|&([a-z0-9]+|#[0-9]{1,6}|#x[0-9a-f]{1,6});\")\n",
    "    cleantext = re.sub(cleanr, \"\", raw_html)\n",
    "    return cleantext"
   ]
  },
  {
   "cell_type": "code",
   "execution_count": null,
   "metadata": {},
   "outputs": [],
   "source": [
    "news['title'] = news['title'].progress_apply(lambda x: cleanhtml(str(x)))\n",
    "news['content'] = news['content'].progress_apply(lambda x: cleanhtml(str(x)))"
   ]
  },
  {
   "cell_type": "code",
   "execution_count": null,
   "metadata": {},
   "outputs": [],
   "source": [
    "company = []\n",
    "company_b = []\n",
    "industrialSector = []\n",
    "industrialSector_b = []\n",
    "region = []\n",
    "region_b = []\n",
    "eventType = []\n",
    "eventType_b = []\n",
    "for k,v in tqdm(news.iterrows(), total=news.shape[0]):\n",
    "    #l = ast.literal_eval(v['objects']) \n",
    "    for ob in v['objects']:\n",
    "        try:\n",
    "            if ob['type'] == 'company':\n",
    "                company.append(ob['name'])\n",
    "            elif ob['type'] == 'industrialSector':\n",
    "                industrialSector.append(ob['name'])\n",
    "            elif ob['type'] == 'region':\n",
    "                region.append(ob['name'])\n",
    "            elif ob['type'] == 'eventType':\n",
    "                eventType.append(ob['name'])\n",
    "        except SyntaxError:\n",
    "            continue\n",
    "    company_b.append(set(company))\n",
    "    industrialSector_b.append(set(industrialSector))\n",
    "    region_b.append(set(region))\n",
    "    eventType_b.append(set(eventType))\n",
    "  \n",
    "    \n",
    "news['company'] = company_b\n",
    "news['industrialSector'] = industrialSector_b\n",
    "news['region'] = region_b\n",
    "news['eventType'] = eventType_b"
   ]
  },
  {
   "cell_type": "code",
   "execution_count": null,
   "metadata": {},
   "outputs": [],
   "source": [
    "news = news[['queryCode', 'documentId', 'date', 'title', 'content', 'sourceName','url', 'company', 'industrialSector', 'region', 'eventType']]\n",
    "final_table = news.merge(gr_clients, on='queryCode', how='inner')\n",
    "final_table = final_table[['company_y', 'date', 'title', 'content', 'sourceName', 'url', 'industrialSector', 'region', 'eventType']]\n",
    "final_table.head()"
   ]
  },
  {
   "cell_type": "code",
   "execution_count": null,
   "metadata": {},
   "outputs": [],
   "source": [
    "negative = pd.read_excel(r'source.xlsx')\n",
    "negative = set(negative['name'].unique())\n",
    "print(len(negative))"
   ]
  },
  {
   "cell_type": "code",
   "execution_count": null,
   "metadata": {},
   "outputs": [],
   "source": [
    "def real_neg(x):\n",
    "    if len(x & negative) > 0:\n",
    "        return True\n",
    "    else:\n",
    "        return False\n",
    "\n",
    "def real_neg_ret(x):\n",
    "    return x & negative"
   ]
  },
  {
   "cell_type": "code",
   "execution_count": null,
   "metadata": {},
   "outputs": [],
   "source": [
    "answer = final_table[final_table['eventType'].progress_apply(real_neg)]\n",
    "answer['eventType_intersect'] = answer['eventType'].progress_apply(real_neg_ret)\n",
    "answer.head()"
   ]
  },
  {
   "cell_type": "code",
   "execution_count": null,
   "metadata": {},
   "outputs": [],
   "source": [
    "answer.to_excel('main_final.xlsx')"
   ]
  },
  {
   "cell_type": "code",
   "execution_count": null,
   "metadata": {},
   "outputs": [],
   "source": []
  }
 ],
 "metadata": {
  "kernelspec": {
   "display_name": "Python 3",
   "language": "python",
   "name": "python3"
  },
  "language_info": {
   "codemirror_mode": {
    "name": "ipython",
    "version": 3
   },
   "file_extension": ".py",
   "mimetype": "text/x-python",
   "name": "python",
   "nbconvert_exporter": "python",
   "pygments_lexer": "ipython3",
   "version": "3.7.4"
  }
 },
 "nbformat": 4,
 "nbformat_minor": 4
}
