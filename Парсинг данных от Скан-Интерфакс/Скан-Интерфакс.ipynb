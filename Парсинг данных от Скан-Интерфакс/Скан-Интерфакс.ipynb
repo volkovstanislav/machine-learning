{
 "cells": [
  {
   "cell_type": "code",
   "execution_count": 1,
   "metadata": {},
   "outputs": [],
   "source": [
    "import re\n",
    "import json\n",
    "import requests\n",
    "import warnings\n",
    "import pandas as pd\n",
    "import matplotlib.pyplot as plt\n",
    "\n",
    "warnings.filterwarnings(\"ignore\")\n",
    "%matplotlib inline"
   ]
  },
  {
   "cell_type": "markdown",
   "metadata": {},
   "source": [
    "## Параметры"
   ]
  },
  {
   "cell_type": "code",
   "execution_count": 2,
   "metadata": {},
   "outputs": [],
   "source": [
    "## Основной url для api запросов\n",
    "main_url='https://gateway.scan-interfax.ru/'\n",
    "\n",
    "login = 'kiselevI@open.ru'\n",
    "password = 'lLd/ENl' \n",
    "\n",
    "## Подгрузка расшифровки\n",
    "http_status_code = pd.read_csv(r'http_status_code.csv', sep=';', error_bad_lines=False, encoding=\"cp1251\")"
   ]
  },
  {
   "cell_type": "markdown",
   "metadata": {},
   "source": [
    "---------------------"
   ]
  },
  {
   "cell_type": "markdown",
   "metadata": {},
   "source": [
    "# Методы работы с аккаунтом"
   ]
  },
  {
   "cell_type": "markdown",
   "metadata": {},
   "source": [
    "## Авторизация"
   ]
  },
  {
   "cell_type": "code",
   "execution_count": 3,
   "metadata": {},
   "outputs": [
    {
     "name": "stdout",
     "output_type": "stream",
     "text": [
      "https://gateway.scan-interfax.ru/api/v1/account/login\n",
      "- Результат запроса: OK\n",
      "\"Успешно\". Запрос успешно обработан. Что значит \"успешно\", зависит от метода HTTP, который был запрошен:\n",
      "- Срок действия аккаунта до: 2020-04-04\n"
     ]
    }
   ],
   "source": [
    "api_login = 'api/v1/account/login'\n",
    "url = main_url + api_login\n",
    "print(url)\n",
    "\n",
    "## Параметры\n",
    "params ={\n",
    "  \"login\": login,\n",
    "  \"password\": password\n",
    "}\n",
    "\n",
    "try:\n",
    "    response = requests.post(url, json=params, verify=False)\n",
    "    accessToken = response.json()['accessToken']\n",
    "    print('- Результат запроса:',http_status_code[http_status_code['code']==response.status_code]['name'].values[0])\n",
    "    print(http_status_code[http_status_code['code']==response.status_code]['message'].values[0])\n",
    "    print('- Срок действия аккаунта до:',pd.to_datetime(response.json()['expire']).date())  \n",
    "except BaseException as error:\n",
    "    print('Ошибка запроса:',response.status_code)\n",
    "    print(error.__doc__)"
   ]
  },
  {
   "cell_type": "markdown",
   "metadata": {},
   "source": [
    "## Получение текущего баланса пользователя"
   ]
  },
  {
   "cell_type": "code",
   "execution_count": 4,
   "metadata": {},
   "outputs": [
    {
     "name": "stdout",
     "output_type": "stream",
     "text": [
      "https://gateway.scan-interfax.ru/api/v1/account/balance\n",
      "-- Результат запроса: 200\n",
      "-Признак безлимитного тарифа: False\n",
      "-Остаток средств на счету (у.е.): 84482.0\n",
      "-Стоимость одного поискового терма (у.е.): 1.0\n",
      "-Время до окончания ограничения на выполнение поиска (сек.): 0\n"
     ]
    }
   ],
   "source": [
    "api_balance = 'api/v1/account/balance'\n",
    "url = main_url + api_balance\n",
    "print(url)\n",
    "\n",
    "headers = {\n",
    "    'Authorization': 'Bearer ' + accessToken\n",
    "}\n",
    "\n",
    "response = requests.get(url, headers=headers, verify=False)\n",
    "print('-- Результат запроса:', response.status_code)\n",
    "print('-Признак безлимитного тарифа:', response.json()['unlimited'])\n",
    "print('-Остаток средств на счету (у.е.):', response.json()['balance'])\n",
    "print('-Стоимость одного поискового терма (у.е.):',response.json()['searchTermCost'])\n",
    "print('-Время до окончания ограничения на выполнение поиска (сек.):', response.json()['searchRateBlockPeriod'])"
   ]
  },
  {
   "cell_type": "markdown",
   "metadata": {},
   "source": [
    "## Получение историю покупок пользователя"
   ]
  },
  {
   "cell_type": "code",
   "execution_count": 5,
   "metadata": {},
   "outputs": [
    {
     "name": "stdout",
     "output_type": "stream",
     "text": [
      "https://gateway.scan-interfax.ru/api/v1/account/purchaseHistory\n"
     ]
    },
    {
     "data": {
      "text/plain": [
       "{}"
      ]
     },
     "execution_count": 5,
     "metadata": {},
     "output_type": "execute_result"
    }
   ],
   "source": [
    "api_hist = 'api/v1/account/purchaseHistory'\n",
    "url = main_url + api_hist\n",
    "print(url)\n",
    "\n",
    "headers = {\n",
    "    'Authorization': 'Bearer ' + accessToken\n",
    "}\n",
    "\n",
    "response = requests.get(url, headers=headers, verify=False)\n",
    "response.json()"
   ]
  },
  {
   "cell_type": "markdown",
   "metadata": {},
   "source": [
    "# Поиск документов в каталоге"
   ]
  },
  {
   "cell_type": "code",
   "execution_count": null,
   "metadata": {},
   "outputs": [],
   "source": [
    "# 3123027569\n",
    "# 0275073194\n",
    "# 5263081418\n",
    "# 5752046628\n",
    "# 5908048172\n",
    "# 6660144200\n",
    "# 7743095125\n",
    "# 4727002311\n",
    "# 6140005000\n",
    "# 7804601371\n",
    "# 3908602319\n",
    "# 1102061710"
   ]
  },
  {
   "cell_type": "code",
   "execution_count": null,
   "metadata": {},
   "outputs": [],
   "source": [
    "api_find = 'api/v1/entities/findEntities'\n",
    "url = main_url + api_find\n",
    "print(url)\n",
    "\n",
    "headers = {\n",
    "    'Authorization': 'Bearer ' + accessToken\n",
    "}\n",
    "\n",
    "params = {\n",
    "  \"matchTerm\": \"Газпром\",\n",
    "  \"cardAvailable\": True,\n",
    "  \"inn\": \"\",\n",
    "  \"maxCountToReturn\": 10000000\n",
    "}\n",
    "\n",
    "response = requests.post(url, json = params, headers=headers, verify=False)\n",
    "print('Код запроса:', response.status_code)\n",
    "print('По запрашиваемому клиенту было возвращено:',len(response.json()['entities']),'статей')\n",
    "list_ent = []\n",
    "# response.json()['entities'][0]['searchTerm']['mentionContext']\n",
    "for ent in response.json()['entities']:\n",
    "    list_ent.append({'entityId': ent['entityId'], 'entityType': ent['entityType'], 'name': ent['name'], 'searchTerm': ent['searchTerm']})\n",
    "\n",
    "entities = pd.DataFrame(list_ent)\n",
    "entities.head()"
   ]
  },
  {
   "cell_type": "markdown",
   "metadata": {},
   "source": [
    "## Получение подробной информации об объекте, заданном по ID"
   ]
  },
  {
   "cell_type": "code",
   "execution_count": null,
   "metadata": {},
   "outputs": [],
   "source": [
    "api_get_obj= 'api/v1/entities/519830'\n",
    "url = main_url + api_get_obj\n",
    "print(url)\n",
    "\n",
    "headers = {\n",
    "    'Authorization': 'Bearer ' + accessToken\n",
    "}\n",
    "\n",
    "response = requests.get(url, headers=headers, verify=False)\n",
    "print('Код запроса:', response.status_code)\n",
    "obj_info = {'image': response.json()['image'], 'description': response.json()['description'], \\\n",
    "            'entityId': response.json()['entityId'], 'entityType': response.json()['entityType'],\n",
    "            'name': response.json()['name']}\n",
    "\n",
    "df = pd.DataFrame(obj_info, index=[0])\n",
    "df.head()"
   ]
  },
  {
   "cell_type": "markdown",
   "metadata": {},
   "source": [
    "## Получение значения Индекса репутационного риска (ИРР) по заданной организации"
   ]
  },
  {
   "cell_type": "code",
   "execution_count": null,
   "metadata": {},
   "outputs": [],
   "source": [
    "api_irr = 'api/v1/entities/getRisk'\n",
    "url = main_url + api_irr\n",
    "print(url)\n",
    "\n",
    "headers = {\n",
    "    'Authorization': 'Bearer ' + accessToken\n",
    "}\n",
    "\n",
    "params = {\n",
    "   'entityId' : 519830\n",
    "}\n",
    "\n",
    "response = requests.post(url, json=params, headers=headers, verify=False)\n",
    "print('Код запроса:', response.status_code)\n",
    "res = pd.DataFrame({'value':response.json()['value'], 'riskLevel':response.json()['riskLevel'], 'documentsCount': response.json()['documentsCount'], 'documentsCountLevel':response.json()['documentsCountLevel']}, index=[0])\n",
    "res.head()"
   ]
  },
  {
   "cell_type": "markdown",
   "metadata": {},
   "source": [
    "## Получение списка тем публикаций"
   ]
  },
  {
   "cell_type": "code",
   "execution_count": null,
   "metadata": {},
   "outputs": [],
   "source": [
    "api_subj= 'api/v1/entities/subjects'\n",
    "url = main_url + api_subj\n",
    "print(url)\n",
    "\n",
    "headers = {\n",
    "    'Authorization': 'Bearer ' + accessToken\n",
    "}\n",
    "\n",
    "params = {\n",
    "    'index' : 0,\n",
    "    'pageSize': 1000\n",
    "}\n",
    "\n",
    "response = requests.get(url, params=params, headers=headers, verify=False)\n",
    "print('Код запроса:', response.status_code)\n",
    "response.json()"
   ]
  },
  {
   "cell_type": "code",
   "execution_count": null,
   "metadata": {},
   "outputs": [],
   "source": [
    "l = []\n",
    "for el in response.json()['subjects']:\n",
    "    try:\n",
    "        l.append({'subjectId' : el['subjectId'],'name' : el['name'], 'parentId' : el['parentId']})\n",
    "    except Exception as e:\n",
    "        l.append({'subjectId' : el['subjectId'],'name' : el['name'], 'parentId' : 'нет'})"
   ]
  },
  {
   "cell_type": "code",
   "execution_count": null,
   "metadata": {},
   "outputs": [],
   "source": [
    "df = pd.DataFrame(l)\n",
    "print(df.shape)\n",
    "df.to_excel('subject_full.xlsx')"
   ]
  },
  {
   "cell_type": "code",
   "execution_count": null,
   "metadata": {},
   "outputs": [],
   "source": [
    "import itertools  \n",
    "\n",
    "a = list(df['subjectId'].unique())\n",
    "b = list(df['parentId'].unique())\n",
    "c = list(itertools.product(a, b))"
   ]
  },
  {
   "cell_type": "code",
   "execution_count": null,
   "metadata": {},
   "outputs": [],
   "source": [
    "import networkx as nx\n",
    "\n",
    "G=nx.Graph()\n",
    "G.add_edges_from(c)\n",
    "nx.draw_spring(G, )\n",
    "# plt.savefig(\"simple_path.png\")\n",
    "# plt.show()"
   ]
  },
  {
   "cell_type": "code",
   "execution_count": null,
   "metadata": {},
   "outputs": [],
   "source": [
    "# import networkx as nx\n",
    "import holoviews as hv\n",
    "from holoviews import opts"
   ]
  },
  {
   "cell_type": "code",
   "execution_count": null,
   "metadata": {},
   "outputs": [],
   "source": [
    " ### визуализация графов\n",
    "hv.extension('bokeh')"
   ]
  },
  {
   "cell_type": "code",
   "execution_count": null,
   "metadata": {},
   "outputs": [],
   "source": [
    "# параметры для построения графов\n",
    "%opts Graph (edge_line_width=0.5)"
   ]
  },
  {
   "cell_type": "code",
   "execution_count": null,
   "metadata": {},
   "outputs": [],
   "source": [
    "%opts Graph (node_size=5)"
   ]
  },
  {
   "cell_type": "code",
   "execution_count": null,
   "metadata": {},
   "outputs": [],
   "source": [
    " %opts Graph [width=800, height=800]"
   ]
  },
  {
   "cell_type": "code",
   "execution_count": null,
   "metadata": {},
   "outputs": [],
   "source": [
    "df = pd.read_excel('subject.xlsx')\n",
    "df.head()"
   ]
  },
  {
   "cell_type": "code",
   "execution_count": null,
   "metadata": {},
   "outputs": [],
   "source": [
    "print(df.shape)\n",
    "df = df[df['parentId'] != 'нет']\n",
    "print(df.shape)"
   ]
  },
  {
   "cell_type": "code",
   "execution_count": null,
   "metadata": {},
   "outputs": [],
   "source": [
    "gr = nx.from_pandas_edgelist(df, 'subjectId', 'parentId')"
   ]
  },
  {
   "cell_type": "code",
   "execution_count": null,
   "metadata": {},
   "outputs": [],
   "source": [
    "gr"
   ]
  },
  {
   "cell_type": "code",
   "execution_count": null,
   "metadata": {},
   "outputs": [],
   "source": [
    "hv.Graph.from_networkx(gr, nx.layout.spring_layout)"
   ]
  },
  {
   "cell_type": "markdown",
   "metadata": {},
   "source": [
    "## Получение тематики источников"
   ]
  },
  {
   "cell_type": "code",
   "execution_count": null,
   "metadata": {},
   "outputs": [],
   "source": [
    "api_irr = 'api/v1/sources/topics'\n",
    "url = main_url + api_irr\n",
    "print(url)\n",
    "\n",
    "headers = {\n",
    "    'Authorization': 'Bearer ' + accessToken\n",
    "}\n",
    "\n",
    "response = requests.get(url, headers=headers, verify=False)\n",
    "print('Код запроса:', response.status_code)\n",
    "response.json()"
   ]
  },
  {
   "cell_type": "markdown",
   "metadata": {},
   "source": [
    "# Cценарии"
   ]
  },
  {
   "cell_type": "markdown",
   "metadata": {},
   "source": [
    "## Загрузка архива публикаций"
   ]
  },
  {
   "cell_type": "markdown",
   "metadata": {},
   "source": [
    "### Поиск по юридическим лицам"
   ]
  },
  {
   "cell_type": "code",
   "execution_count": 7,
   "metadata": {},
   "outputs": [
    {
     "name": "stdout",
     "output_type": "stream",
     "text": [
      "(2071, 1)\n"
     ]
    }
   ],
   "source": [
    "## Загружаем данные от Михеевой\n",
    "data_b =pd.read_excel(r'Мониторинг СКАН Интерфакс (Белова).xlsx',\n",
    "                         converters={'inn':str})\n",
    "print(data_b.shape)\n",
    "# собираем словарь\n",
    "inn_list = list(data_b['inn'].unique())\n",
    "companiesToSearch = []\n",
    "for inn in inn_list:\n",
    "    if len(inn) == 10:\n",
    "        companiesToSearch.append({\"inn\":inn, \"documentsCount\": 100000})"
   ]
  },
  {
   "cell_type": "code",
   "execution_count": 8,
   "metadata": {},
   "outputs": [
    {
     "name": "stdout",
     "output_type": "stream",
     "text": [
      "https://gateway.scan-interfax.ru/api/v1/search/findByCompaniesList\n",
      "Код запроса: 200\n"
     ]
    }
   ],
   "source": [
    "## Загрузка архива публикаций\n",
    "api_find_comp = 'api/v1/search/findByCompaniesList'\n",
    "url = main_url + api_find_comp\n",
    "\n",
    "print(url)\n",
    "\n",
    "headers = {\n",
    "    'Authorization': 'Bearer ' + accessToken\n",
    "}\n",
    "\n",
    "params = {\n",
    "  \"companiesToSearch\": companiesToSearch,\n",
    "  \"period\": {\n",
    "    \"startDate\": \"2020-03-01T00:00:00\",\n",
    "    \"endDate\": \"2020-04-01T23:59:59\"\n",
    "  },\n",
    "  \"mentionContext\": \"any\",\n",
    "  \"similarMode\": \"similar\",\n",
    "  \"sortType\": \"newFirst\",\n",
    "  \"dateSearchType\": \"publicationDate\"\n",
    "}\n",
    "\n",
    "response = requests.post(url, json=params, headers=headers, verify=False)\n",
    "print('Код запроса:', response.status_code)\n",
    "res = response.json()"
   ]
  },
  {
   "cell_type": "code",
   "execution_count": 10,
   "metadata": {},
   "outputs": [
    {
     "data": {
      "text/plain": [
       "1959"
      ]
     },
     "execution_count": 10,
     "metadata": {},
     "output_type": "execute_result"
    }
   ],
   "source": [
    "len(res['companiesSearchResult'])"
   ]
  },
  {
   "cell_type": "code",
   "execution_count": 11,
   "metadata": {},
   "outputs": [
    {
     "data": {
      "text/html": [
       "<div>\n",
       "<style scoped>\n",
       "    .dataframe tbody tr th:only-of-type {\n",
       "        vertical-align: middle;\n",
       "    }\n",
       "\n",
       "    .dataframe tbody tr th {\n",
       "        vertical-align: top;\n",
       "    }\n",
       "\n",
       "    .dataframe thead th {\n",
       "        text-align: right;\n",
       "    }\n",
       "</style>\n",
       "<table border=\"1\" class=\"dataframe\">\n",
       "  <thead>\n",
       "    <tr style=\"text-align: right;\">\n",
       "      <th></th>\n",
       "      <th>company</th>\n",
       "      <th>documentIds</th>\n",
       "      <th>queryCode</th>\n",
       "      <th>totalCount</th>\n",
       "      <th>len_documentIds</th>\n",
       "    </tr>\n",
       "  </thead>\n",
       "  <tbody>\n",
       "    <tr>\n",
       "      <th>0</th>\n",
       "      <td>6678034985</td>\n",
       "      <td>[1:VdC2GtGBUtGbRwsY0YBJZ+KAukjRmlfQvSfQnXXRj8K...</td>\n",
       "      <td>813811ece60d474af4de7b29b682d3e0</td>\n",
       "      <td>6</td>\n",
       "      <td>6</td>\n",
       "    </tr>\n",
       "    <tr>\n",
       "      <th>1</th>\n",
       "      <td>5406681543</td>\n",
       "      <td>[]</td>\n",
       "      <td>af8bd3cfbcad886193798ab7116ad411</td>\n",
       "      <td>0</td>\n",
       "      <td>0</td>\n",
       "    </tr>\n",
       "    <tr>\n",
       "      <th>2</th>\n",
       "      <td>7814566648</td>\n",
       "      <td>[1:NNCYMNGa0JLQntGEwq1e0ZpwXOKAulBzT9CQD1k8U9C...</td>\n",
       "      <td>d2c8a496e69f0bf1b25ab969451a6978</td>\n",
       "      <td>2</td>\n",
       "      <td>2</td>\n",
       "    </tr>\n",
       "    <tr>\n",
       "      <th>3</th>\n",
       "      <td>7805555551</td>\n",
       "      <td>[]</td>\n",
       "      <td>17f855487305a3f625a8853d3b087779</td>\n",
       "      <td>0</td>\n",
       "      <td>0</td>\n",
       "    </tr>\n",
       "    <tr>\n",
       "      <th>4</th>\n",
       "      <td>6163099251</td>\n",
       "      <td>[1:wrHRiSDRktCD0YDCp9CUQtCj0LdVH9GR0YfQhSfigJ1...</td>\n",
       "      <td>3c60e3760a33e96e3c2b1d85aed34699</td>\n",
       "      <td>4</td>\n",
       "      <td>4</td>\n",
       "    </tr>\n",
       "  </tbody>\n",
       "</table>\n",
       "</div>"
      ],
      "text/plain": [
       "      company                                        documentIds  \\\n",
       "0  6678034985  [1:VdC2GtGBUtGbRwsY0YBJZ+KAukjRmlfQvSfQnXXRj8K...   \n",
       "1  5406681543                                                 []   \n",
       "2  7814566648  [1:NNCYMNGa0JLQntGEwq1e0ZpwXOKAulBzT9CQD1k8U9C...   \n",
       "3  7805555551                                                 []   \n",
       "4  6163099251  [1:wrHRiSDRktCD0YDCp9CUQtCj0LdVH9GR0YfQhSfigJ1...   \n",
       "\n",
       "                          queryCode  totalCount  len_documentIds  \n",
       "0  813811ece60d474af4de7b29b682d3e0           6                6  \n",
       "1  af8bd3cfbcad886193798ab7116ad411           0                0  \n",
       "2  d2c8a496e69f0bf1b25ab969451a6978           2                2  \n",
       "3  17f855487305a3f625a8853d3b087779           0                0  \n",
       "4  3c60e3760a33e96e3c2b1d85aed34699           4                4  "
      ]
     },
     "execution_count": 11,
     "metadata": {},
     "output_type": "execute_result"
    }
   ],
   "source": [
    "df_list = []\n",
    "for elem in res['companiesSearchResult']:\n",
    "    mes_list = []\n",
    "    for doc in elem['documentIds']:\n",
    "        mes_list.append(doc)\n",
    "    try:\n",
    "        df_list.append({'company': elem['company']['inn'], 'queryCode':elem['queryCode'], 'totalCount': elem['totalCount'], 'documentIds':mes_list})\n",
    "    except Exception as e:\n",
    "        continue\n",
    "        \n",
    "result = pd.DataFrame(df_list)\n",
    "result['len_documentIds'] = result['documentIds'].apply(lambda x: len(x))\n",
    "result.head()"
   ]
  },
  {
   "cell_type": "code",
   "execution_count": 12,
   "metadata": {},
   "outputs": [],
   "source": [
    "result.to_excel('inn_res.xlsx')"
   ]
  },
  {
   "cell_type": "code",
   "execution_count": 13,
   "metadata": {},
   "outputs": [
    {
     "name": "stdout",
     "output_type": "stream",
     "text": [
      "(10, 5)\n"
     ]
    },
    {
     "data": {
      "text/html": [
       "<div>\n",
       "<style scoped>\n",
       "    .dataframe tbody tr th:only-of-type {\n",
       "        vertical-align: middle;\n",
       "    }\n",
       "\n",
       "    .dataframe tbody tr th {\n",
       "        vertical-align: top;\n",
       "    }\n",
       "\n",
       "    .dataframe thead th {\n",
       "        text-align: right;\n",
       "    }\n",
       "</style>\n",
       "<table border=\"1\" class=\"dataframe\">\n",
       "  <thead>\n",
       "    <tr style=\"text-align: right;\">\n",
       "      <th></th>\n",
       "      <th>company</th>\n",
       "      <th>documentIds</th>\n",
       "      <th>queryCode</th>\n",
       "      <th>totalCount</th>\n",
       "      <th>len_documentIds</th>\n",
       "    </tr>\n",
       "  </thead>\n",
       "  <tbody>\n",
       "    <tr>\n",
       "      <th>0</th>\n",
       "      <td>6678034985</td>\n",
       "      <td>[1:VdC2GtGBUtGbRwsY0YBJZ+KAukjRmlfQvSfQnXXRj8K...</td>\n",
       "      <td>813811ece60d474af4de7b29b682d3e0</td>\n",
       "      <td>6</td>\n",
       "      <td>6</td>\n",
       "    </tr>\n",
       "    <tr>\n",
       "      <th>2</th>\n",
       "      <td>7814566648</td>\n",
       "      <td>[1:NNCYMNGa0JLQntGEwq1e0ZpwXOKAulBzT9CQD1k8U9C...</td>\n",
       "      <td>d2c8a496e69f0bf1b25ab969451a6978</td>\n",
       "      <td>2</td>\n",
       "      <td>2</td>\n",
       "    </tr>\n",
       "    <tr>\n",
       "      <th>4</th>\n",
       "      <td>6163099251</td>\n",
       "      <td>[1:wrHRiSDRktCD0YDCp9CUQtCj0LdVH9GR0YfQhSfigJ1...</td>\n",
       "      <td>3c60e3760a33e96e3c2b1d85aed34699</td>\n",
       "      <td>4</td>\n",
       "      <td>4</td>\n",
       "    </tr>\n",
       "    <tr>\n",
       "      <th>8</th>\n",
       "      <td>7811180727</td>\n",
       "      <td>[1:RRcOJdCgaMKg0JZ2wqTRg9GNPCDQhAhw0K9kFzUtUhT...</td>\n",
       "      <td>6fbb011cf4de4f418fb02c23d6c4427a</td>\n",
       "      <td>25</td>\n",
       "      <td>25</td>\n",
       "    </tr>\n",
       "    <tr>\n",
       "      <th>9</th>\n",
       "      <td>7814505170</td>\n",
       "      <td>[1:4oCd4oCUDOKAum8TaX9t0Y8c0LDRmdCXPNGLenTRm3E...</td>\n",
       "      <td>aa68b6a2d8391d7df957ca1179559488</td>\n",
       "      <td>6</td>\n",
       "      <td>6</td>\n",
       "    </tr>\n",
       "  </tbody>\n",
       "</table>\n",
       "</div>"
      ],
      "text/plain": [
       "      company                                        documentIds  \\\n",
       "0  6678034985  [1:VdC2GtGBUtGbRwsY0YBJZ+KAukjRmlfQvSfQnXXRj8K...   \n",
       "2  7814566648  [1:NNCYMNGa0JLQntGEwq1e0ZpwXOKAulBzT9CQD1k8U9C...   \n",
       "4  6163099251  [1:wrHRiSDRktCD0YDCp9CUQtCj0LdVH9GR0YfQhSfigJ1...   \n",
       "8  7811180727  [1:RRcOJdCgaMKg0JZ2wqTRg9GNPCDQhAhw0K9kFzUtUhT...   \n",
       "9  7814505170  [1:4oCd4oCUDOKAum8TaX9t0Y8c0LDRmdCXPNGLenTRm3E...   \n",
       "\n",
       "                          queryCode  totalCount  len_documentIds  \n",
       "0  813811ece60d474af4de7b29b682d3e0           6                6  \n",
       "2  d2c8a496e69f0bf1b25ab969451a6978           2                2  \n",
       "4  3c60e3760a33e96e3c2b1d85aed34699           4                4  \n",
       "8  6fbb011cf4de4f418fb02c23d6c4427a          25               25  \n",
       "9  aa68b6a2d8391d7df957ca1179559488           6                6  "
      ]
     },
     "execution_count": 13,
     "metadata": {},
     "output_type": "execute_result"
    }
   ],
   "source": [
    "result = result[result['len_documentIds']>0]\n",
    "print(result.shape)\n",
    "result.head()"
   ]
  },
  {
   "cell_type": "markdown",
   "metadata": {},
   "source": [
    "### Получение текстов найденных публикаций"
   ]
  },
  {
   "cell_type": "code",
   "execution_count": 14,
   "metadata": {},
   "outputs": [
    {
     "name": "stdout",
     "output_type": "stream",
     "text": [
      "https://gateway.scan-interfax.ru/api/v1/search/getDocuments\n",
      "Код запроса: 200\n",
      "Код запроса: 200\n",
      "Код запроса: 200\n",
      "Код запроса: 200\n",
      "Код запроса: 200\n",
      "Код запроса: 200\n",
      "Код запроса: 200\n",
      "Код запроса: 200\n",
      "Код запроса: 200\n",
      "Код запроса: 200\n"
     ]
    }
   ],
   "source": [
    "api_find_doc = 'api/v1/search/getDocuments'\n",
    "url = main_url + api_find_doc\n",
    "\n",
    "print(url)\n",
    "\n",
    "headers = {\n",
    "    'Authorization': 'Bearer ' + accessToken\n",
    "}\n",
    "\n",
    "con_df = []\n",
    "for k, v in result.iterrows():\n",
    "    params = {\n",
    "      \"queryCode\": v['queryCode'],\n",
    "      \"ids\": v['documentIds'],\n",
    "      \"attributes\": [\n",
    "        \"content\",  \"objects\"\n",
    "      ],\n",
    "      \"options\": [\n",
    "        \"inlineImages\"\n",
    "      ]\n",
    "    }\n",
    "    \n",
    "    try:\n",
    "        response = requests.post(url, json=params, headers=headers, verify=False)\n",
    "        print('Код запроса:', response.status_code)\n",
    "        docs = response.json()\n",
    "        doc_list = []\n",
    "        for elem in docs['documents']:\n",
    "            doc_list.append({'documentId': elem['documentId'],\n",
    "        #                     'dedupClusterId': elem['dedupClusterId'],\n",
    "                             'date': elem['date'],\n",
    "                             'loadingDate': elem['loadingDate'],\n",
    "                             'title': elem['title'],\n",
    "                             'author': elem['author'],\n",
    "                             'sourceId': elem['sourceId'],\n",
    "                             'sourceName': elem['sourceName'],\n",
    "                             'url': elem['url'],\n",
    "                             'fullTextUnavailable': elem['fullTextUnavailable'],\n",
    "                             'content': elem['content'],\n",
    "                             'objects': elem['objects'],\n",
    "                            'queryCode':v['queryCode']})\n",
    "        news = pd.DataFrame(doc_list)\n",
    "        con_df.append(news)\n",
    "    except Exception as e:\n",
    "        print(e)\n",
    "        continue\n",
    "        \n",
    "news = pd.concat(con_df)"
   ]
  },
  {
   "cell_type": "markdown",
   "metadata": {},
   "source": [
    "-----------------------"
   ]
  },
  {
   "cell_type": "code",
   "execution_count": null,
   "metadata": {},
   "outputs": [],
   "source": [
    "def cleanhtml(raw_html):\n",
    "    cleanr = re.compile('<.*?>|&([a-z0-9]+|#[0-9]{1,6}|#x[0-9a-f]{1,6});')\n",
    "    cleantext = re.sub(cleanr, '', raw_html)\n",
    "    return cleantext"
   ]
  },
  {
   "cell_type": "code",
   "execution_count": null,
   "metadata": {},
   "outputs": [],
   "source": [
    "news['title'] = news['title'].apply(lambda x: cleanhtml(x))\n",
    "news['content'] = news['content'].apply(lambda x: cleanhtml(x))\n",
    "news.head()"
   ]
  },
  {
   "cell_type": "code",
   "execution_count": null,
   "metadata": {},
   "outputs": [],
   "source": [
    "company = []\n",
    "company_b = []\n",
    "industrialSector = []\n",
    "industrialSector_b = []\n",
    "region = []\n",
    "region_b = []\n",
    "eventType = []\n",
    "eventType_b = []\n",
    "for o in news['objects']:\n",
    "    for ob in o:\n",
    "        if ob['type'] == 'company':\n",
    "            company.append(ob['name'])\n",
    "        elif ob['type'] == 'industrialSector':\n",
    "            industrialSector.append(ob['name'])\n",
    "        elif ob['type'] == 'region':\n",
    "            region.append(ob['name'])\n",
    "        elif ob['type'] == 'eventType':\n",
    "            eventType.append(ob['name'])\n",
    "    company_b.append(set(company))\n",
    "    industrialSector_b.append(set(industrialSector))\n",
    "    region_b.append(set(region))\n",
    "    eventType_b.append(set(eventType))\n",
    "    \n",
    "news['company'] = company_b\n",
    "news['industrialSector'] = industrialSector_b\n",
    "news['region'] = region_b\n",
    "news['eventType'] = eventType_b"
   ]
  },
  {
   "cell_type": "code",
   "execution_count": null,
   "metadata": {},
   "outputs": [],
   "source": [
    "news = news[['queryCode', 'documentId', 'date', 'title', 'content', 'sourceName','url', 'company', 'industrialSector', 'region', 'eventType']]\n",
    "news.head()"
   ]
  },
  {
   "cell_type": "code",
   "execution_count": null,
   "metadata": {},
   "outputs": [],
   "source": [
    "final_table = news.merge(result, on='queryCode', how='inner')\n",
    "final_table.head()"
   ]
  },
  {
   "cell_type": "code",
   "execution_count": null,
   "metadata": {},
   "outputs": [],
   "source": [
    "final_table = final_table[['company_y', 'date', 'title', 'content', 'sourceName', 'url', 'industrialSector', 'region', 'eventType', 'totalCount']]\n",
    "final_table.head()"
   ]
  },
  {
   "cell_type": "code",
   "execution_count": null,
   "metadata": {},
   "outputs": [],
   "source": [
    "negative = pd.read_excel(r'source.xlsx')\n",
    "negative = set(negative['name'].unique())\n",
    "negative"
   ]
  },
  {
   "cell_type": "code",
   "execution_count": null,
   "metadata": {},
   "outputs": [],
   "source": [
    "def real_neg(x):\n",
    "    if len(x & negative) > 0:\n",
    "        return True\n",
    "    else:\n",
    "        return False"
   ]
  },
  {
   "cell_type": "code",
   "execution_count": null,
   "metadata": {},
   "outputs": [],
   "source": [
    "print(final_table.shape)\n",
    "answer = final_table[final_table['eventType'].apply(real_neg)]\n",
    "print(answer.shape)"
   ]
  },
  {
   "cell_type": "code",
   "execution_count": null,
   "metadata": {},
   "outputs": [],
   "source": [
    "answer.to_excel('monitoring_scan.xlsx')"
   ]
  },
  {
   "cell_type": "code",
   "execution_count": null,
   "metadata": {},
   "outputs": [],
   "source": []
  },
  {
   "cell_type": "code",
   "execution_count": null,
   "metadata": {},
   "outputs": [],
   "source": []
  }
 ],
 "metadata": {
  "kernelspec": {
   "display_name": "Python 3",
   "language": "python",
   "name": "python3"
  },
  "language_info": {
   "codemirror_mode": {
    "name": "ipython",
    "version": 3
   },
   "file_extension": ".py",
   "mimetype": "text/x-python",
   "name": "python",
   "nbconvert_exporter": "python",
   "pygments_lexer": "ipython3",
   "version": "3.7.4"
  }
 },
 "nbformat": 4,
 "nbformat_minor": 4
}
